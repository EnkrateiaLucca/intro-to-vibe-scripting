{
 "cells": [
  {
   "cell_type": "markdown",
   "id": "794c82f9-d0c4-42dc-be38-bad5584a500b",
   "metadata": {},
   "source": [
    "# Python Basics"
   ]
  },
  {
   "cell_type": "markdown",
   "id": "c9b240c1-4ee4-4930-b6c3-6198f0cb9d13",
   "metadata": {},
   "source": [
    "1. Basic syntax\n",
    "2. "
   ]
  }
 ],
 "metadata": {
  "kernelspec": {
   "display_name": "My UV Project",
   "language": "python",
   "name": "my-uv-project"
  },
  "language_info": {
   "codemirror_mode": {
    "name": "ipython",
    "version": 3
   },
   "file_extension": ".py",
   "mimetype": "text/x-python",
   "name": "python",
   "nbconvert_exporter": "python",
   "pygments_lexer": "ipython3",
   "version": "3.13.1"
  }
 },
 "nbformat": 4,
 "nbformat_minor": 5
}
