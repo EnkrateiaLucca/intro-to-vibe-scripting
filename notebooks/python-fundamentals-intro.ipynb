{
 "cells": [
  {
   "cell_type": "markdown",
   "id": "fb1e8ef9",
   "metadata": {},
   "source": [
    "# Python Fundamentals: Complete Introduction\n",
    "\n",
    "## Table of Contents\n",
    "1. [Data Types and Operations](#data-types-and-operations)\n",
    "2. [Variables](#variables)\n",
    "3. [Functions](#functions)\n",
    "4. [Lists and Loops](#lists-and-loops)\n",
    "5. [Dictionaries](#dictionaries)\n",
    "6. [Comparisons and Logic](#comparisons-and-logic)\n",
    "7. [Conditionals](#conditionals)\n",
    "8. [Working with Files](#working-with-files)\n",
    "9. [Working with CSV Data](#working-with-csv-data)\n",
    "10. [Packages and APIs](#packages-and-apis)\n",
    "\n",
    "---\n",
    "\n",
    "## Data Types and Operations\n",
    "\n",
    "Python has several fundamental data types:\n",
    "\n",
    "### Basic Data Types"
   ]
  },
  {
   "cell_type": "code",
   "execution_count": null,
   "id": "f4f69208",
   "metadata": {},
   "outputs": [],
   "source": [
    "# Integers\n",
    "age = 25\n",
    "count = 100\n",
    "\n",
    "# Floats (decimal numbers)\n",
    "price = 19.99\n",
    "temperature = 98.6\n",
    "\n",
    "# Strings\n",
    "name = \"Alice\"\n",
    "message = 'Hello, World!'\n",
    "\n",
    "# Booleans\n",
    "is_active = True\n",
    "is_complete = False"
   ]
  },
  {
   "cell_type": "markdown",
   "id": "d477eabf",
   "metadata": {},
   "source": [
    "### Arithmetic Operations"
   ]
  },
  {
   "cell_type": "code",
   "execution_count": null,
   "id": "52c35620",
   "metadata": {},
   "outputs": [],
   "source": [
    "# Basic arithmetic\n",
    "result = 10 + 5    # Addition: 15\n",
    "result = 10 - 3    # Subtraction: 7\n",
    "result = 4 * 6     # Multiplication: 24\n",
    "result = 15 / 3    # Division: 5.0\n",
    "result = 17 // 3   # Floor division: 5\n",
    "result = 17 % 3    # Modulus (remainder): 2\n",
    "result = 2 ** 3    # Exponentiation: 8"
   ]
  },
  {
   "cell_type": "markdown",
   "id": "402d8904",
   "metadata": {},
   "source": [
    "### String Operations"
   ]
  },
  {
   "cell_type": "code",
   "execution_count": null,
   "id": "79013e3d",
   "metadata": {},
   "outputs": [],
   "source": [
    "first_name = \"John\"\n",
    "last_name = \"Doe\"\n",
    "full_name = first_name + \" \" + last_name  # Concatenation\n",
    "greeting = f\"Hello, {full_name}!\"         # f-string formatting\n",
    "\n",
    "# String methods\n",
    "text = \"  Python Programming  \"\n",
    "print(text.strip())        # Remove whitespace\n",
    "print(text.lower())        # Convert to lowercase\n",
    "print(text.upper())        # Convert to uppercase\n",
    "print(text.replace(\"Python\", \"Java\"))  # Replace text"
   ]
  },
  {
   "cell_type": "markdown",
   "id": "0d6ba230",
   "metadata": {},
   "source": [
    "---\n",
    "\n",
    "## Variables\n",
    "\n",
    "Variables are containers for storing data values.\n",
    "\n",
    "### Creating Variables"
   ]
  },
  {
   "cell_type": "code",
   "execution_count": null,
   "id": "6e59c4b4",
   "metadata": {},
   "outputs": [],
   "source": [
    "# Variables can store different types\n",
    "username = \"developer\"\n",
    "user_age = 30\n",
    "is_premium = True\n",
    "account_balance = 1250.75\n",
    "\n",
    "# Variables can be reassigned\n",
    "score = 0\n",
    "score = score + 10  # Now score is 10\n",
    "score += 5          # Shorthand: now score is 15"
   ]
  },
  {
   "cell_type": "markdown",
   "id": "3958badd",
   "metadata": {},
   "source": [
    "### Variable Naming Rules"
   ]
  },
  {
   "cell_type": "code",
   "execution_count": null,
   "id": "8fc906f4",
   "metadata": {},
   "outputs": [],
   "source": [
    "# Good variable names\n",
    "user_name = \"Alice\"\n",
    "total_count = 100\n",
    "is_valid = True\n",
    "\n",
    "# Avoid these (but they're technically valid)\n",
    "x = \"Alice\"        # Not descriptive\n",
    "data1 = 100        # Not clear what data1 represents"
   ]
  },
  {
   "cell_type": "markdown",
   "id": "1ea8fa5c",
   "metadata": {},
   "source": [
    "---\n",
    "\n",
    "## Functions\n",
    "\n",
    "Functions are reusable blocks of code that perform specific tasks.\n",
    "\n",
    "### Built-in Functions"
   ]
  },
  {
   "cell_type": "code",
   "execution_count": null,
   "id": "19cea329",
   "metadata": {},
   "outputs": [],
   "source": [
    "# Common built-in functions\n",
    "text = \"Hello World\"\n",
    "numbers = [1, 2, 3, 4, 5]\n",
    "\n",
    "print(len(text))           # Length: 11\n",
    "print(len(numbers))        # Length: 5\n",
    "print(max(numbers))        # Maximum: 5\n",
    "print(min(numbers))        # Minimum: 1\n",
    "print(sum(numbers))        # Sum: 15\n",
    "print(round(3.14159, 2))   # Round to 2 decimals: 3.14\n",
    "print(abs(-10))            # Absolute value: 10"
   ]
  },
  {
   "cell_type": "markdown",
   "id": "c0c94805",
   "metadata": {},
   "source": [
    "### Creating Custom Functions"
   ]
  },
  {
   "cell_type": "code",
   "execution_count": null,
   "id": "3d3e716e",
   "metadata": {},
   "outputs": [],
   "source": [
    "def greet(name):\n",
    "    \"\"\"Function to greet a person\"\"\"\n",
    "    return f\"Hello, {name}!\"\n",
    "\n",
    "def calculate_area(length, width):\n",
    "    \"\"\"Calculate rectangle area\"\"\"\n",
    "    area = length * width\n",
    "    return area\n",
    "\n",
    "def process_data(data, multiplier=2):\n",
    "    \"\"\"Process data with optional multiplier\"\"\"\n",
    "    return [x * multiplier for x in data]\n",
    "\n",
    "# Using functions\n",
    "message = greet(\"Alice\")\n",
    "area = calculate_area(10, 5)\n",
    "processed = process_data([1, 2, 3], 3)"
   ]
  },
  {
   "cell_type": "markdown",
   "id": "2d99d7dc",
   "metadata": {},
   "source": [
    "---\n",
    "\n",
    "## Lists and Loops\n",
    "\n",
    "Lists store multiple items in a single variable.\n",
    "\n",
    "### Creating and Using Lists"
   ]
  },
  {
   "cell_type": "code",
   "execution_count": null,
   "id": "d5bcc638",
   "metadata": {},
   "outputs": [],
   "source": [
    "# Creating lists\n",
    "fruits = [\"apple\", \"banana\", \"orange\"]\n",
    "numbers = [1, 2, 3, 4, 5]\n",
    "mixed = [\"text\", 42, True, 3.14]\n",
    "\n",
    "# Accessing elements (zero-indexed)\n",
    "first_fruit = fruits[0]     # \"apple\"\n",
    "last_fruit = fruits[-1]     # \"orange\"\n",
    "\n",
    "# List methods\n",
    "fruits.append(\"grape\")      # Add to end\n",
    "fruits.insert(1, \"mango\")   # Insert at position\n",
    "fruits.remove(\"banana\")     # Remove specific item\n",
    "popped = fruits.pop()       # Remove and return last item"
   ]
  },
  {
   "cell_type": "markdown",
   "id": "ba5867e8",
   "metadata": {},
   "source": [
    "### For Loops"
   ]
  },
  {
   "cell_type": "code",
   "execution_count": null,
   "id": "c5cdb49b",
   "metadata": {},
   "outputs": [],
   "source": [
    "# Loop through lists\n",
    "for fruit in fruits:\n",
    "    print(f\"I like {fruit}\")\n",
    "\n",
    "# Loop with index\n",
    "for i, fruit in enumerate(fruits):\n",
    "    print(f\"{i}: {fruit}\")\n",
    "\n",
    "# Loop through range\n",
    "for i in range(5):          # 0, 1, 2, 3, 4\n",
    "    print(f\"Number: {i}\")\n",
    "\n",
    "for i in range(2, 8, 2):    # 2, 4, 6 (start, stop, step)\n",
    "    print(f\"Even: {i}\")"
   ]
  },
  {
   "cell_type": "markdown",
   "id": "5d70c036",
   "metadata": {},
   "source": [
    "### List Comprehensions"
   ]
  },
  {
   "cell_type": "code",
   "execution_count": null,
   "id": "e82df033",
   "metadata": {},
   "outputs": [],
   "source": [
    "# Create lists efficiently\n",
    "squares = [x**2 for x in range(5)]           # [0, 1, 4, 9, 16]\n",
    "evens = [x for x in range(10) if x % 2 == 0] # [0, 2, 4, 6, 8]\n",
    "uppercased = [fruit.upper() for fruit in fruits]"
   ]
  },
  {
   "cell_type": "markdown",
   "id": "cdc9593a",
   "metadata": {},
   "source": [
    "---\n",
    "\n",
    "## Dictionaries\n",
    "\n",
    "Dictionaries store data in key-value pairs.\n",
    "\n",
    "### Creating and Using Dictionaries"
   ]
  },
  {
   "cell_type": "code",
   "execution_count": null,
   "id": "da4b673c",
   "metadata": {},
   "outputs": [],
   "source": [
    "# Creating dictionaries\n",
    "person = {\n",
    "    \"name\": \"Alice\",\n",
    "    \"age\": 30,\n",
    "    \"city\": \"New York\",\n",
    "    \"is_student\": False\n",
    "}\n",
    "\n",
    "# Accessing values\n",
    "name = person[\"name\"]                    # \"Alice\"\n",
    "age = person.get(\"age\", 0)              # 30 (with default)\n",
    "city = person.get(\"country\", \"Unknown\") # \"Unknown\" (key doesn't exist)\n",
    "\n",
    "# Adding/updating values\n",
    "person[\"email\"] = \"alice@email.com\"     # Add new key\n",
    "person[\"age\"] = 31                      # Update existing\n",
    "\n",
    "# Dictionary methods\n",
    "keys = person.keys()                    # Get all keys\n",
    "values = person.values()                # Get all values\n",
    "items = person.items()                  # Get key-value pairs"
   ]
  },
  {
   "cell_type": "markdown",
   "id": "9cbf21b8",
   "metadata": {},
   "source": [
    "### Working with Dictionaries"
   ]
  },
  {
   "cell_type": "code",
   "execution_count": null,
   "id": "14c49de8",
   "metadata": {},
   "outputs": [],
   "source": [
    "# Loop through dictionaries\n",
    "for key in person:\n",
    "    print(f\"{key}: {person[key]}\")\n",
    "\n",
    "for key, value in person.items():\n",
    "    print(f\"{key}: {value}\")\n",
    "\n",
    "# Dictionary comprehension\n",
    "squared_dict = {x: x**2 for x in range(5)}  # {0: 0, 1: 1, 2: 4, 3: 9, 4: 16}"
   ]
  },
  {
   "cell_type": "markdown",
   "id": "56711584",
   "metadata": {},
   "source": [
    "---\n",
    "\n",
    "## Comparisons and Logic\n",
    "\n",
    "### Comparison Operators"
   ]
  },
  {
   "cell_type": "code",
   "execution_count": null,
   "id": "ae167ec4",
   "metadata": {},
   "outputs": [],
   "source": [
    "# Basic comparisons\n",
    "print(5 == 5)    # True (equal)\n",
    "print(5 != 3)    # True (not equal)\n",
    "print(5 > 3)     # True (greater than)\n",
    "print(5 < 3)     # False (less than)\n",
    "print(5 >= 5)    # True (greater than or equal)\n",
    "print(5 <= 3)    # False (less than or equal)\n",
    "\n",
    "# String comparisons\n",
    "print(\"apple\" == \"apple\")    # True\n",
    "print(\"apple\" < \"banana\")    # True (alphabetical)"
   ]
  },
  {
   "cell_type": "markdown",
   "id": "179a9907",
   "metadata": {},
   "source": [
    "### Logical Operators"
   ]
  },
  {
   "cell_type": "code",
   "execution_count": null,
   "id": "b4937ba7",
   "metadata": {},
   "outputs": [],
   "source": [
    "# and, or, not\n",
    "age = 25\n",
    "has_license = True\n",
    "is_student = False\n",
    "\n",
    "can_rent_car = age >= 21 and has_license           # True\n",
    "gets_discount = age < 25 or is_student             # False\n",
    "is_adult = not (age < 18)                          # True\n",
    "\n",
    "# Checking membership\n",
    "fruits = [\"apple\", \"banana\", \"orange\"]\n",
    "print(\"apple\" in fruits)        # True\n",
    "print(\"grape\" not in fruits)    # True"
   ]
  },
  {
   "cell_type": "markdown",
   "id": "865ec072",
   "metadata": {},
   "source": [
    "---\n",
    "\n",
    "## Conditionals\n",
    "\n",
    "Control program flow with if statements.\n",
    "\n",
    "### Basic If Statements"
   ]
  },
  {
   "cell_type": "code",
   "execution_count": null,
   "id": "c3292beb",
   "metadata": {},
   "outputs": [],
   "source": [
    "age = 20\n",
    "\n",
    "if age >= 18:\n",
    "    print(\"You are an adult\")\n",
    "    \n",
    "if age < 21:\n",
    "    print(\"You cannot drink alcohol in the US\")"
   ]
  },
  {
   "cell_type": "markdown",
   "id": "5d8f1d1e",
   "metadata": {},
   "source": [
    "### If-Else Statements"
   ]
  },
  {
   "cell_type": "code",
   "execution_count": null,
   "id": "4e5a1a24",
   "metadata": {},
   "outputs": [],
   "source": [
    "temperature = 75\n",
    "\n",
    "if temperature > 80:\n",
    "    print(\"It's hot outside\")\n",
    "else:\n",
    "    print(\"It's not too hot\")"
   ]
  },
  {
   "cell_type": "markdown",
   "id": "c605e2b9",
   "metadata": {},
   "source": [
    "### If-Elif-Else Chains"
   ]
  },
  {
   "cell_type": "code",
   "execution_count": null,
   "id": "d62b8214",
   "metadata": {},
   "outputs": [],
   "source": [
    "score = 85\n",
    "\n",
    "if score >= 90:\n",
    "    grade = \"A\"\n",
    "elif score >= 80:\n",
    "    grade = \"B\"\n",
    "elif score >= 70:\n",
    "    grade = \"C\"\n",
    "elif score >= 60:\n",
    "    grade = \"D\"\n",
    "else:\n",
    "    grade = \"F\"\n",
    "\n",
    "print(f\"Your grade is: {grade}\")"
   ]
  },
  {
   "cell_type": "markdown",
   "id": "389773d0",
   "metadata": {},
   "source": [
    "### Complex Conditions"
   ]
  },
  {
   "cell_type": "code",
   "execution_count": null,
   "id": "e4c682b5",
   "metadata": {},
   "outputs": [],
   "source": [
    "username = \"admin\"\n",
    "password = \"secret123\"\n",
    "is_active = True\n",
    "\n",
    "if username == \"admin\" and password == \"secret123\" and is_active:\n",
    "    print(\"Access granted\")\n",
    "elif not is_active:\n",
    "    print(\"Account is deactivated\")\n",
    "else:\n",
    "    print(\"Invalid credentials\")"
   ]
  },
  {
   "cell_type": "markdown",
   "id": "35ab981d",
   "metadata": {},
   "source": [
    "---\n",
    "\n",
    "## Working with Files\n",
    "\n",
    "### Reading Files"
   ]
  },
  {
   "cell_type": "code",
   "execution_count": null,
   "id": "1461e3ad",
   "metadata": {},
   "outputs": [],
   "source": [
    "# Read entire file\n",
    "with open(\"data.txt\", \"r\") as file:\n",
    "    content = file.read()\n",
    "    print(content)\n",
    "\n",
    "# Read line by line\n",
    "with open(\"data.txt\", \"r\") as file:\n",
    "    for line in file:\n",
    "        print(line.strip())  # strip() removes newline characters\n",
    "\n",
    "# Read all lines into a list\n",
    "with open(\"data.txt\", \"r\") as file:\n",
    "    lines = file.readlines()"
   ]
  },
  {
   "cell_type": "markdown",
   "id": "19250359",
   "metadata": {},
   "source": [
    "### Writing Files"
   ]
  },
  {
   "cell_type": "code",
   "execution_count": null,
   "id": "92ddc8b1",
   "metadata": {},
   "outputs": [],
   "source": [
    "# Write to file (overwrites existing content)\n",
    "with open(\"output.txt\", \"w\") as file:\n",
    "    file.write(\"Hello, World!\\n\")\n",
    "    file.write(\"This is a new line.\\n\")\n",
    "\n",
    "# Append to file\n",
    "with open(\"output.txt\", \"a\") as file:\n",
    "    file.write(\"This line is appended.\\n\")\n",
    "\n",
    "# Write multiple lines\n",
    "lines = [\"Line 1\\n\", \"Line 2\\n\", \"Line 3\\n\"]\n",
    "with open(\"output.txt\", \"w\") as file:\n",
    "    file.writelines(lines)"
   ]
  },
  {
   "cell_type": "markdown",
   "id": "3a0fe0c0",
   "metadata": {},
   "source": [
    "### File Handling Best Practices"
   ]
  },
  {
   "cell_type": "code",
   "execution_count": null,
   "id": "ce877ef2",
   "metadata": {},
   "outputs": [],
   "source": [
    "import os\n",
    "\n",
    "# Check if file exists\n",
    "if os.path.exists(\"data.txt\"):\n",
    "    with open(\"data.txt\", \"r\") as file:\n",
    "        content = file.read()\n",
    "else:\n",
    "    print(\"File not found\")\n",
    "\n",
    "# Get file information\n",
    "file_size = os.path.getsize(\"data.txt\")\n",
    "file_modified = os.path.getmtime(\"data.txt\")"
   ]
  },
  {
   "cell_type": "markdown",
   "id": "58755565",
   "metadata": {},
   "source": [
    "---\n",
    "\n",
    "## Working with CSV Data\n",
    "\n",
    "### Reading CSV Files"
   ]
  },
  {
   "cell_type": "code",
   "execution_count": null,
   "id": "3303e35b",
   "metadata": {},
   "outputs": [],
   "source": [
    "import csv\n",
    "\n",
    "# Read CSV as list of lists\n",
    "with open(\"data.csv\", \"r\") as file:\n",
    "    csv_reader = csv.reader(file)\n",
    "    headers = next(csv_reader)  # Read first row as headers\n",
    "    \n",
    "    for row in csv_reader:\n",
    "        print(row)\n",
    "\n",
    "# Read CSV as list of dictionaries\n",
    "with open(\"data.csv\", \"r\") as file:\n",
    "    csv_reader = csv.DictReader(file)\n",
    "    \n",
    "    for row in csv_reader:\n",
    "        print(row[\"name\"], row[\"age\"])  # Access by column name"
   ]
  },
  {
   "cell_type": "markdown",
   "id": "8f608549",
   "metadata": {},
   "source": [
    "### Writing CSV Files"
   ]
  },
  {
   "cell_type": "code",
   "execution_count": null,
   "id": "b2cecf7f",
   "metadata": {},
   "outputs": [],
   "source": [
    "import csv\n",
    "\n",
    "# Write CSV from list of lists\n",
    "data = [\n",
    "    [\"Name\", \"Age\", \"City\"],\n",
    "    [\"Alice\", \"30\", \"New York\"],\n",
    "    [\"Bob\", \"25\", \"Los Angeles\"]\n",
    "]\n",
    "\n",
    "with open(\"output.csv\", \"w\", newline=\"\") as file:\n",
    "    csv_writer = csv.writer(file)\n",
    "    csv_writer.writerows(data)\n",
    "\n",
    "# Write CSV from list of dictionaries\n",
    "people = [\n",
    "    {\"name\": \"Alice\", \"age\": 30, \"city\": \"New York\"},\n",
    "    {\"name\": \"Bob\", \"age\": 25, \"city\": \"Los Angeles\"}\n",
    "]\n",
    "\n",
    "with open(\"people.csv\", \"w\", newline=\"\") as file:\n",
    "    fieldnames = [\"name\", \"age\", \"city\"]\n",
    "    csv_writer = csv.DictWriter(file, fieldnames=fieldnames)\n",
    "    \n",
    "    csv_writer.writeheader()\n",
    "    csv_writer.writerows(people)"
   ]
  },
  {
   "cell_type": "markdown",
   "id": "e57c37d4",
   "metadata": {},
   "source": [
    "### Processing CSV Data"
   ]
  },
  {
   "cell_type": "code",
   "execution_count": null,
   "id": "d5d4e352",
   "metadata": {},
   "outputs": [],
   "source": [
    "import csv\n",
    "\n",
    "# Filter and process CSV data\n",
    "adults = []\n",
    "with open(\"people.csv\", \"r\") as file:\n",
    "    csv_reader = csv.DictReader(file)\n",
    "    \n",
    "    for row in csv_reader:\n",
    "        if int(row[\"age\"]) >= 18:\n",
    "            adults.append(row)\n",
    "\n",
    "# Calculate statistics\n",
    "ages = []\n",
    "with open(\"people.csv\", \"r\") as file:\n",
    "    csv_reader = csv.DictReader(file)\n",
    "    \n",
    "    for row in csv_reader:\n",
    "        ages.append(int(row[\"age\"]))\n",
    "\n",
    "average_age = sum(ages) / len(ages)\n",
    "print(f\"Average age: {average_age:.1f}\")"
   ]
  },
  {
   "cell_type": "markdown",
   "id": "9ee3d13f",
   "metadata": {},
   "source": [
    "---\n",
    "\n",
    "## Packages and APIs\n",
    "\n",
    "### Built-in Packages"
   ]
  },
  {
   "cell_type": "code",
   "execution_count": null,
   "id": "d15036e8",
   "metadata": {},
   "outputs": [],
   "source": [
    "# Math operations\n",
    "import math\n",
    "\n",
    "print(math.sqrt(16))        # 4.0\n",
    "print(math.pi)              # 3.141592653589793\n",
    "print(math.ceil(4.2))       # 5 (round up)\n",
    "print(math.floor(4.8))      # 4 (round down)\n",
    "\n",
    "# Random operations\n",
    "import random\n",
    "\n",
    "print(random.randint(1, 10))           # Random integer between 1 and 10\n",
    "print(random.choice([\"a\", \"b\", \"c\"]))  # Random choice from list\n",
    "random.shuffle([1, 2, 3, 4, 5])        # Shuffle list in place\n",
    "\n",
    "# Date and time\n",
    "from datetime import datetime, date\n",
    "\n",
    "now = datetime.now()\n",
    "today = date.today()\n",
    "print(f\"Current time: {now}\")\n",
    "print(f\"Today's date: {today}\")"
   ]
  },
  {
   "cell_type": "markdown",
   "id": "72ce3eab",
   "metadata": {},
   "source": [
    "### Working with APIs"
   ]
  },
  {
   "cell_type": "code",
   "execution_count": null,
   "id": "7010b182",
   "metadata": {},
   "outputs": [],
   "source": [
    "import requests\n",
    "import json\n",
    "\n",
    "# Make API request\n",
    "response = requests.get(\"https://api.github.com/users/octocat\")\n",
    "\n",
    "if response.status_code == 200:\n",
    "    data = response.json()\n",
    "    print(f\"Username: {data['login']}\")\n",
    "    print(f\"Public repos: {data['public_repos']}\")\n",
    "else:\n",
    "    print(\"API request failed\")\n",
    "\n",
    "# POST request with data\n",
    "data = {\"name\": \"John\", \"email\": \"john@example.com\"}\n",
    "response = requests.post(\"https://api.example.com/users\", json=data)"
   ]
  },
  {
   "cell_type": "markdown",
   "id": "65bd20b0",
   "metadata": {},
   "source": [
    "### Package Installation and Import"
   ]
  },
  {
   "cell_type": "code",
   "execution_count": null,
   "id": "1f75547a",
   "metadata": {},
   "outputs": [],
   "source": [
    "# Install packages using pip (in terminal):\n",
    "# pip install requests\n",
    "# pip install pandas\n",
    "# pip install matplotlib\n",
    "\n",
    "# Import installed packages\n",
    "import requests\n",
    "import pandas as pd\n",
    "import matplotlib.pyplot as plt\n",
    "\n",
    "# Import specific functions\n",
    "from datetime import datetime\n",
    "from math import sqrt, pi\n",
    "from random import choice, randint"
   ]
  },
  {
   "cell_type": "markdown",
   "id": "38a3cc78",
   "metadata": {},
   "source": [
    "---\n",
    "\n",
    "## Putting It All Together: Example Project\n",
    "\n",
    "Here's a complete example that combines multiple concepts:"
   ]
  },
  {
   "cell_type": "code",
   "execution_count": null,
   "id": "a3be4919",
   "metadata": {},
   "outputs": [],
   "source": [
    "import csv\n",
    "import requests\n",
    "from datetime import datetime\n",
    "\n",
    "def fetch_weather_data(city):\n",
    "    \"\"\"Fetch weather data from API (example)\"\"\"\n",
    "    # This is a mock function - replace with real API\n",
    "    return {\n",
    "        \"city\": city,\n",
    "        \"temperature\": 72,\n",
    "        \"humidity\": 65,\n",
    "        \"timestamp\": datetime.now().isoformat()\n",
    "    }\n",
    "\n",
    "def save_to_csv(data, filename):\n",
    "    \"\"\"Save weather data to CSV file\"\"\"\n",
    "    fieldnames = [\"city\", \"temperature\", \"humidity\", \"timestamp\"]\n",
    "    \n",
    "    with open(filename, \"a\", newline=\"\") as file:\n",
    "        writer = csv.DictWriter(file, fieldnames=fieldnames)\n",
    "        \n",
    "        # Write header if file is empty\n",
    "        if file.tell() == 0:\n",
    "            writer.writeheader()\n",
    "        \n",
    "        writer.writerow(data)\n",
    "\n",
    "def analyze_data(filename):\n",
    "    \"\"\"Analyze weather data from CSV\"\"\"\n",
    "    temperatures = []\n",
    "    cities = []\n",
    "    \n",
    "    with open(filename, \"r\") as file:\n",
    "        reader = csv.DictReader(file)\n",
    "        \n",
    "        for row in reader:\n",
    "            temperatures.append(float(row[\"temperature\"]))\n",
    "            cities.append(row[\"city\"])\n",
    "    \n",
    "    if temperatures:\n",
    "        avg_temp = sum(temperatures) / len(temperatures)\n",
    "        max_temp = max(temperatures)\n",
    "        min_temp = min(temperatures)\n",
    "        \n",
    "        print(f\"Average temperature: {avg_temp:.1f}°F\")\n",
    "        print(f\"Highest temperature: {max_temp}°F\")\n",
    "        print(f\"Lowest temperature: {min_temp}°F\")\n",
    "        print(f\"Cities monitored: {len(set(cities))}\")\n",
    "\n",
    "# Main program\n",
    "cities = [\"New York\", \"Los Angeles\", \"Chicago\"]\n",
    "filename = \"weather_data.csv\"\n",
    "\n",
    "for city in cities:\n",
    "    weather = fetch_weather_data(city)\n",
    "    save_to_csv(weather, filename)\n",
    "    print(f\"Saved weather data for {city}\")\n",
    "\n",
    "analyze_data(filename)"
   ]
  },
  {
   "cell_type": "markdown",
   "id": "6c37906d",
   "metadata": {},
   "source": [
    "This example demonstrates:\n",
    "- Functions with parameters and return values\n",
    "- Working with APIs and external data\n",
    "- CSV file operations\n",
    "- List and dictionary manipulation\n",
    "- String formatting and calculations\n",
    "- Error handling and data validation\n",
    "\n",
    "---\n",
    "\n",
    "## Summary\n",
    "\n",
    "You've learned the core Python concepts:\n",
    "\n",
    "1. **Data Types**: integers, floats, strings, booleans\n",
    "2. **Variables**: storing and manipulating data\n",
    "3. **Functions**: organizing reusable code\n",
    "4. **Lists**: managing collections of data\n",
    "5. **Dictionaries**: storing key-value pairs\n",
    "6. **Logic**: comparisons and conditional statements\n",
    "7. **File I/O**: reading and writing files\n",
    "8. **CSV handling**: working with structured data\n",
    "9. **Packages**: using built-in and external libraries\n",
    "\n",
    "These fundamentals provide the foundation for automation, data analysis, web development, and countless other programming tasks. Practice combining these concepts to build real-world applications!"
   ]
  }
 ],
 "metadata": {
  "language_info": {
   "name": "python"
  }
 },
 "nbformat": 4,
 "nbformat_minor": 5
}
