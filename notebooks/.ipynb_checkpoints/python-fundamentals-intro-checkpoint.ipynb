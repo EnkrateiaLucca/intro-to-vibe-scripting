{
 "cells": [
  {
   "cell_type": "markdown",
   "id": "fb1e8ef9",
   "metadata": {},
   "source": [
    "# Python Fundamentals: Complete Introduction\n",
    "\n",
    "## Table of Contents\n",
    "1. [Data Types and Operations](#data-types-and-operations)\n",
    "2. [Variables](#variables)\n",
    "3. [Functions](#functions)\n",
    "4. [Lists and Loops](#lists-and-loops)\n",
    "5. [Dictionaries](#dictionaries)\n",
    "6. [Comparisons and Logic](#comparisons-and-logic)\n",
    "7. [Conditionals](#conditionals)\n",
    "8. [Working with Files](#working-with-files)\n",
    "9. [Working with CSV Data](#working-with-csv-data)\n",
    "10. [Packages and APIs](#packages-and-apis)\n",
    "\n",
    "---\n",
    "\n",
    "## Data Types and Operations\n",
    "\n",
    "Python has several fundamental data types:\n",
    "\n",
    "### Basic Data Types"
   ]
  },
  {
   "cell_type": "code",
   "execution_count": 2,
   "id": "f4f69208",
   "metadata": {},
   "outputs": [
    {
     "name": "stdout",
     "output_type": "stream",
     "text": [
      "25\n"
     ]
    }
   ],
   "source": [
    "# Integers\n",
    "age = 25\n",
    "count = 100\n",
    "\n",
    "# Floats (decimal numbers)\n",
    "price = 19.99\n",
    "temperature = 98.6\n",
    "\n",
    "# Strings\n",
    "name = \"Alice\"\n",
    "message = 'Hello, World!'\n",
    "\n",
    "# Booleans\n",
    "is_active = True\n",
    "is_complete = False\n",
    "print(age)"
   ]
  },
  {
   "cell_type": "markdown",
   "id": "d477eabf",
   "metadata": {},
   "source": [
    "### Arithmetic Operations"
   ]
  },
  {
   "cell_type": "code",
   "execution_count": 5,
   "id": "52c35620",
   "metadata": {},
   "outputs": [
    {
     "name": "stdout",
     "output_type": "stream",
     "text": [
      "15\n",
      "7\n",
      "24\n",
      "5.0\n",
      "5\n",
      "2\n",
      "8\n"
     ]
    }
   ],
   "source": [
    "# Basic arithmetic\n",
    "result = 10 + 5    # Addition: 15\n",
    "print(result)\n",
    "result = 10 - 3    # Subtraction: 7\n",
    "print(result)\n",
    "result = 4 * 6     # Multiplication: 24\n",
    "print(result)\n",
    "result = 15 / 3    # Division: 5.0\n",
    "print(result)\n",
    "result = 17 // 3   # Floor division: 5\n",
    "print(result)\n",
    "result = 17 % 3    # Modulus (remainder): 2\n",
    "print(result)\n",
    "result = 2 ** 3    # Exponentiation: 8\n",
    "print(result)"
   ]
  },
  {
   "cell_type": "markdown",
   "id": "402d8904",
   "metadata": {},
   "source": [
    "### String Operations"
   ]
  },
  {
   "cell_type": "code",
   "execution_count": 7,
   "id": "79013e3d",
   "metadata": {},
   "outputs": [
    {
     "name": "stdout",
     "output_type": "stream",
     "text": [
      "Hello, John Doe!\n"
     ]
    }
   ],
   "source": [
    "first_name = \"John\"\n",
    "last_name = \"Doe\"\n",
    "full_name = first_name + \" \" + last_name  # Concatenation\n",
    "greeting = f\"Hello, {full_name}!\"         # f-string formatting\n",
    "print(greeting)"
   ]
  },
  {
   "cell_type": "code",
   "execution_count": 8,
   "id": "568d254a-6e93-4cfd-9a27-5951ef201ddd",
   "metadata": {},
   "outputs": [
    {
     "name": "stdout",
     "output_type": "stream",
     "text": [
      "Python Programming\n",
      "  python programming  \n",
      "  PYTHON PROGRAMMING  \n",
      "  Java Programming  \n"
     ]
    }
   ],
   "source": [
    "# String methods\n",
    "text = \"  Python Programming  \"\n",
    "print(text.strip())        # Remove whitespace\n",
    "print(text.lower())        # Convert to lowercase\n",
    "print(text.upper())        # Convert to uppercase\n",
    "print(text.replace(\"Python\", \"Java\"))  # Replace text"
   ]
  },
  {
   "cell_type": "markdown",
   "id": "0d6ba230",
   "metadata": {},
   "source": [
    "---\n",
    "\n",
    "## Variables\n",
    "\n",
    "Variables are containers for storing data values.\n",
    "\n",
    "### Creating Variables"
   ]
  },
  {
   "cell_type": "code",
   "execution_count": 9,
   "id": "6e59c4b4",
   "metadata": {},
   "outputs": [
    {
     "name": "stdout",
     "output_type": "stream",
     "text": [
      "developer\n",
      "30\n",
      "True\n",
      "1250.75\n"
     ]
    }
   ],
   "source": [
    "# Variables can store different types\n",
    "username = \"developer\"\n",
    "user_age = 30\n",
    "is_premium = True\n",
    "account_balance = 1250.75\n",
    "\n",
    "print(username)\n",
    "print(user_age)\n",
    "print(is_premium)\n",
    "print(account_balance)"
   ]
  },
  {
   "cell_type": "code",
   "execution_count": 10,
   "id": "06390c84-03d9-4f79-bb75-b5e6713a0f9f",
   "metadata": {},
   "outputs": [
    {
     "name": "stdout",
     "output_type": "stream",
     "text": [
      "User name: developer, user age: 30, is the user premium? True, user balance: 1250.75.\n"
     ]
    }
   ],
   "source": [
    "user_info = f\"User name: {username}, user age: {user_age}, is the user premium? {is_premium}, user balance: {account_balance}.\"\n",
    "print(user_info)"
   ]
  },
  {
   "cell_type": "code",
   "execution_count": null,
   "id": "814de6ca-2f00-4838-bf0a-d71f504c66e6",
   "metadata": {},
   "outputs": [],
   "source": []
  },
  {
   "cell_type": "markdown",
   "id": "3958badd",
   "metadata": {},
   "source": [
    "### Variable Naming Rules"
   ]
  },
  {
   "cell_type": "code",
   "execution_count": null,
   "id": "8fc906f4",
   "metadata": {},
   "outputs": [],
   "source": [
    "# Good variable names\n",
    "user_name = \"Alice\"\n",
    "total_count = 100\n",
    "is_valid = True\n",
    "\n",
    "# Avoid these (but they're technically valid)\n",
    "x = \"Alice\"        # Not descriptive\n",
    "data1 = 100        # Not clear what data1 represents"
   ]
  },
  {
   "cell_type": "markdown",
   "id": "1ea8fa5c",
   "metadata": {},
   "source": [
    "---\n",
    "\n",
    "## Functions\n",
    "\n",
    "Functions are reusable blocks of code that perform specific tasks.\n",
    "\n",
    "### Built-in Functions"
   ]
  },
  {
   "cell_type": "code",
   "execution_count": 11,
   "id": "19cea329",
   "metadata": {},
   "outputs": [
    {
     "name": "stdout",
     "output_type": "stream",
     "text": [
      "11\n",
      "5\n",
      "5\n",
      "1\n",
      "15\n",
      "3.14\n",
      "10\n"
     ]
    }
   ],
   "source": [
    "# Common built-in functions\n",
    "text = \"Hello World\"\n",
    "numbers = [1, 2, 3, 4, 5]\n",
    "\n",
    "print(len(text))           # Length: 11\n",
    "print(len(numbers))        # Length: 5\n",
    "print(max(numbers))        # Maximum: 5\n",
    "print(min(numbers))        # Minimum: 1\n",
    "print(sum(numbers))        # Sum: 15\n",
    "print(round(3.14159, 2))   # Round to 2 decimals: 3.14\n",
    "print(abs(-10))            # Absolute value: 10"
   ]
  },
  {
   "cell_type": "markdown",
   "id": "c0c94805",
   "metadata": {},
   "source": [
    "### Creating Custom Functions"
   ]
  },
  {
   "cell_type": "code",
   "execution_count": 12,
   "id": "3d3e716e",
   "metadata": {},
   "outputs": [],
   "source": [
    "def greet(name):\n",
    "    \"\"\"Function to greet a person\"\"\"\n",
    "    return f\"Hello, {name}!\"\n",
    "\n",
    "def calculate_rectangle_area(length, width):\n",
    "    \"\"\"Calculate rectangle area\"\"\"\n",
    "    area = length * width\n",
    "    return area\n",
    "\n",
    "def process_data(data, multiplier=2):\n",
    "    \"\"\"Process data with optional multiplier\"\"\"\n",
    "    return [x * multiplier for x in data]\n",
    "\n",
    "# Using functions\n",
    "message = greet(\"Alice\")\n",
    "area = calculate_rectangle_area(10, 5)\n",
    "processed = process_data([1, 2, 3], 3)"
   ]
  },
  {
   "cell_type": "code",
   "execution_count": 13,
   "id": "0c6163dc-3e00-4074-a4fc-d64599355bff",
   "metadata": {},
   "outputs": [
    {
     "name": "stdout",
     "output_type": "stream",
     "text": [
      "Hello, Alice!\n",
      "50\n",
      "[3, 6, 9]\n"
     ]
    }
   ],
   "source": [
    "print(message)\n",
    "print(area)\n",
    "print(processed)"
   ]
  },
  {
   "cell_type": "code",
   "execution_count": 20,
   "id": "688e4d28-a977-4792-a08f-ae5c29cff127",
   "metadata": {},
   "outputs": [],
   "source": [
    "def print_stuff(text):\n",
    "    text_multi_10 = text*10\n",
    "    return text_multi_10"
   ]
  },
  {
   "cell_type": "code",
   "execution_count": 16,
   "id": "1369ef78-93b3-4f21-a2ef-192da1da2704",
   "metadata": {},
   "outputs": [
    {
     "name": "stdout",
     "output_type": "stream",
     "text": [
      "I am talking about Python basics!I am talking about Python basics!I am talking about Python basics!I am talking about Python basics!I am talking about Python basics!I am talking about Python basics!I am talking about Python basics!I am talking about Python basics!I am talking about Python basics!I am talking about Python basics!\n"
     ]
    }
   ],
   "source": [
    "print_stuff(\"I am talking about Python basics!\")"
   ]
  },
  {
   "cell_type": "code",
   "execution_count": 21,
   "id": "7c48f8af-24f8-41c9-929f-23af4fa5f88a",
   "metadata": {},
   "outputs": [],
   "source": [
    "variable_text_stuff = print_stuff(\"hi\")"
   ]
  },
  {
   "cell_type": "code",
   "execution_count": 22,
   "id": "daae79a0-a81a-466d-8fe3-1e37899dfc9a",
   "metadata": {},
   "outputs": [
    {
     "name": "stdout",
     "output_type": "stream",
     "text": [
      "hihihihihihihihihihi\n"
     ]
    }
   ],
   "source": [
    "print(variable_text_stuff)"
   ]
  },
  {
   "cell_type": "code",
   "execution_count": null,
   "id": "a9c50bc4-927d-417c-8dae-f07228bdceb9",
   "metadata": {},
   "outputs": [],
   "source": []
  },
  {
   "cell_type": "markdown",
   "id": "2d99d7dc",
   "metadata": {},
   "source": [
    "---\n",
    "\n",
    "## Lists and Loops\n",
    "\n",
    "Lists store multiple items in a single variable.\n",
    "\n",
    "### Creating and Using Lists"
   ]
  },
  {
   "cell_type": "code",
   "execution_count": 24,
   "id": "d5bcc638",
   "metadata": {},
   "outputs": [
    {
     "name": "stdout",
     "output_type": "stream",
     "text": [
      "apple\n",
      "orange\n"
     ]
    }
   ],
   "source": [
    "# Creating lists\n",
    "fruits = [\"apple\", \"banana\", \"orange\"]\n",
    "numbers = [1, 2, 3, 4, 5]\n",
    "mixed = [\"text\", 42, True, 3.14]\n",
    "\n",
    "# Accessing elements (zero-indexed)\n",
    "first_fruit = fruits[0]     # \"apple\"\n",
    "last_fruit = fruits[-1]   # \"orange\"\n",
    "print(first_fruit)\n",
    "print(last_fruit)"
   ]
  },
  {
   "cell_type": "code",
   "execution_count": 25,
   "id": "253de7ad-87b2-414d-a54e-e300a92eb453",
   "metadata": {},
   "outputs": [
    {
     "data": {
      "text/plain": [
       "['apple', 'banana', 'orange', 'grape']"
      ]
     },
     "execution_count": 25,
     "metadata": {},
     "output_type": "execute_result"
    }
   ],
   "source": [
    "# List methods\n",
    "fruits.append(\"grape\")      # Add to end\n",
    "fruits"
   ]
  },
  {
   "cell_type": "code",
   "execution_count": 26,
   "id": "88a2877e-c1fe-4df3-ad64-0be619ad2947",
   "metadata": {},
   "outputs": [
    {
     "data": {
      "text/plain": [
       "['apple', 'mango', 'banana', 'orange', 'grape']"
      ]
     },
     "execution_count": 26,
     "metadata": {},
     "output_type": "execute_result"
    }
   ],
   "source": [
    "fruits.insert(1, \"mango\")   # Insert at position\n",
    "fruits"
   ]
  },
  {
   "cell_type": "code",
   "execution_count": 27,
   "id": "f6b471ec-cee6-4ea7-a83d-898fca827435",
   "metadata": {},
   "outputs": [
    {
     "data": {
      "text/plain": [
       "['apple', 'mango', 'orange', 'grape']"
      ]
     },
     "execution_count": 27,
     "metadata": {},
     "output_type": "execute_result"
    }
   ],
   "source": [
    "fruits.remove(\"banana\")     # Remove specific item\n",
    "fruits"
   ]
  },
  {
   "cell_type": "code",
   "execution_count": 30,
   "id": "8572d590-5023-4ad7-b149-116f8aefc66e",
   "metadata": {},
   "outputs": [
    {
     "data": {
      "text/plain": [
       "'grape'"
      ]
     },
     "execution_count": 30,
     "metadata": {},
     "output_type": "execute_result"
    }
   ],
   "source": [
    "popped = fruits.pop()       # Remove and return last item\n",
    "popped"
   ]
  },
  {
   "cell_type": "code",
   "execution_count": 32,
   "id": "48a3ef1f-8025-41d2-afb6-77d86374fcd9",
   "metadata": {},
   "outputs": [
    {
     "data": {
      "text/plain": [
       "['apple', 'mango', 'orange']"
      ]
     },
     "execution_count": 32,
     "metadata": {},
     "output_type": "execute_result"
    }
   ],
   "source": [
    "fruits"
   ]
  },
  {
   "cell_type": "code",
   "execution_count": null,
   "id": "a0b7f529-da85-4bab-93a8-74e22c664db1",
   "metadata": {},
   "outputs": [],
   "source": []
  },
  {
   "cell_type": "code",
   "execution_count": null,
   "id": "cc99cb89-434b-4b27-a48f-2e5b93dfe606",
   "metadata": {},
   "outputs": [],
   "source": []
  },
  {
   "cell_type": "markdown",
   "id": "ba5867e8",
   "metadata": {},
   "source": [
    "### For Loops"
   ]
  },
  {
   "cell_type": "code",
   "execution_count": 34,
   "id": "c5cdb49b",
   "metadata": {},
   "outputs": [
    {
     "name": "stdout",
     "output_type": "stream",
     "text": [
      "I like apple\n",
      "I like mango\n",
      "I like orange\n"
     ]
    }
   ],
   "source": [
    "# Loop through lists\n",
    "for fruit in fruits:\n",
    "    print(f\"I like {fruit}\")"
   ]
  },
  {
   "cell_type": "code",
   "execution_count": 35,
   "id": "2c94c9e9-2bd1-4e51-9c05-ce1516258952",
   "metadata": {},
   "outputs": [
    {
     "name": "stdout",
     "output_type": "stream",
     "text": [
      "0: apple\n",
      "1: mango\n",
      "2: orange\n"
     ]
    }
   ],
   "source": [
    "# Loop with index\n",
    "for i, fruit in enumerate(fruits):\n",
    "    print(f\"{i}: {fruit}\")"
   ]
  },
  {
   "cell_type": "code",
   "execution_count": 36,
   "id": "c5589f81-d05d-47c9-ae41-7c4c4bb2b4a1",
   "metadata": {},
   "outputs": [
    {
     "name": "stdout",
     "output_type": "stream",
     "text": [
      "Number: 0\n",
      "Number: 1\n",
      "Number: 2\n",
      "Number: 3\n",
      "Number: 4\n"
     ]
    }
   ],
   "source": [
    "# Loop through range\n",
    "for i in range(5):          # 0, 1, 2, 3, 4\n",
    "    print(f\"Number: {i}\")"
   ]
  },
  {
   "cell_type": "code",
   "execution_count": 39,
   "id": "e0f2e22a-bd32-4ed0-88c0-3249d8ce05ea",
   "metadata": {},
   "outputs": [
    {
     "name": "stdout",
     "output_type": "stream",
     "text": [
      "Even: 2\n",
      "Even: 4\n",
      "Even: 6\n"
     ]
    }
   ],
   "source": [
    "for i in range(2, 8, 2):    # 2, 4, 6 (start, stop, step)\n",
    "    print(f\"Even: {i}\")"
   ]
  },
  {
   "cell_type": "markdown",
   "id": "5d70c036",
   "metadata": {},
   "source": [
    "### List Comprehensions"
   ]
  },
  {
   "cell_type": "code",
   "execution_count": 40,
   "id": "e82df033",
   "metadata": {},
   "outputs": [
    {
     "data": {
      "text/plain": [
       "[0, 1, 4, 9, 16]"
      ]
     },
     "execution_count": 40,
     "metadata": {},
     "output_type": "execute_result"
    }
   ],
   "source": [
    "# Create lists efficiently\n",
    "squares = [x**2 for x in range(5)]\n",
    "# [0, 1, 4, 9, 16]\n",
    "squares"
   ]
  },
  {
   "cell_type": "code",
   "execution_count": 42,
   "id": "238b16ce-40ee-4194-9184-2f287df8c757",
   "metadata": {},
   "outputs": [
    {
     "data": {
      "text/plain": [
       "[0, 2, 4, 6, 8, 10]"
      ]
     },
     "execution_count": 42,
     "metadata": {},
     "output_type": "execute_result"
    }
   ],
   "source": [
    "evens = [x for x in range(11) if x % 2 == 0] # [0, 2, 4, 6, 8]\n",
    "evens"
   ]
  },
  {
   "cell_type": "code",
   "execution_count": 43,
   "id": "25c78ea7-f584-42f8-8677-ce67c1f37d97",
   "metadata": {},
   "outputs": [
    {
     "data": {
      "text/plain": [
       "['APPLE', 'ORANGE', 'MANGO']"
      ]
     },
     "execution_count": 43,
     "metadata": {},
     "output_type": "execute_result"
    }
   ],
   "source": [
    "fruits = [\"apple\", \"orange\", \"mango\"]\n",
    "uppercased = [fruit.upper() for fruit in fruits]\n",
    "uppercased"
   ]
  },
  {
   "cell_type": "code",
   "execution_count": 45,
   "id": "9dc6d6ca-ae9a-4e19-8140-ec90becbf137",
   "metadata": {},
   "outputs": [
    {
     "name": "stdout",
     "output_type": "stream",
     "text": [
      "Client name: lucas.\n",
      "Client number: 88879802\n",
      "*****\n",
      "Client name: John.\n",
      "Client number: 88876654\n",
      "*****\n",
      "Client name: Maria.\n",
      "Client number: 99987678\n",
      "*****\n"
     ]
    }
   ],
   "source": [
    "list_of_clients_to_call = [\"lucas\", \"John\", \"Maria\"]\n",
    "list_of_numbers_from_clients = [\"88879802\", \"88876654\", \"99987678\"]\n",
    "for client, number in zip(list_of_clients_to_call, list_of_numbers_from_clients):\n",
    "    print(f\"Client name: {client}.\")\n",
    "    print(f\"Client number: {number}\")\n",
    "    print(\"*****\")"
   ]
  },
  {
   "cell_type": "markdown",
   "id": "cdc9593a",
   "metadata": {},
   "source": [
    "---\n",
    "\n",
    "## Dictionaries\n",
    "\n",
    "Dictionaries store data in key-value pairs.\n",
    "\n",
    "### Creating and Using Dictionaries"
   ]
  },
  {
   "cell_type": "code",
   "execution_count": 46,
   "id": "7486e204-8dc0-4821-a988-4d56d4cc9d3f",
   "metadata": {},
   "outputs": [
    {
     "data": {
      "text/plain": [
       "dict"
      ]
     },
     "execution_count": 46,
     "metadata": {},
     "output_type": "execute_result"
    }
   ],
   "source": [
    "clients_numbers = {\n",
    "    \"lucas\": \"88879802\",\n",
    "    \"John\": \"88876654\",\n",
    "    \"Maria\": \"99987678\"\n",
    "}\n",
    "type(clients_numbers)"
   ]
  },
  {
   "cell_type": "code",
   "execution_count": 47,
   "id": "da4b673c",
   "metadata": {},
   "outputs": [],
   "source": [
    "# Creating dictionaries\n",
    "person = {\n",
    "    \"name\": \"Alice\",\n",
    "    \"age\": 30,\n",
    "    \"city\": \"New York\",\n",
    "    \"is_student\": False\n",
    "}"
   ]
  },
  {
   "cell_type": "code",
   "execution_count": 51,
   "id": "ff5e8e5b-0020-495a-be7c-9f627d836a10",
   "metadata": {},
   "outputs": [
    {
     "data": {
      "text/plain": [
       "{'name': 'Alice',\n",
       " 'age': 30,\n",
       " 'city': 'New York',\n",
       " 'is_student': False,\n",
       " 'email': 'alice@email.com'}"
      ]
     },
     "execution_count": 51,
     "metadata": {},
     "output_type": "execute_result"
    }
   ],
   "source": [
    "\n",
    "# Accessing values\n",
    "name = person[\"name\"]                    # \"Alice\"\n",
    "age = person.get(\"age\", 0)              # 30 (with default)\n",
    "country = person.get(\"country\", \"Unknown\") # \"Unknown\" (key doesn't exist)\n",
    "\n",
    "# Adding/updating values\n",
    "person[\"email\"] = \"alice@email.com\"     # Add new key\n",
    "person"
   ]
  },
  {
   "cell_type": "code",
   "execution_count": 52,
   "id": "3c70aad6-cf26-46b4-9a6c-aa4cc8245144",
   "metadata": {},
   "outputs": [
    {
     "data": {
      "text/plain": [
       "{'name': 'Alice',\n",
       " 'age': 31,\n",
       " 'city': 'New York',\n",
       " 'is_student': False,\n",
       " 'email': 'alice@email.com'}"
      ]
     },
     "execution_count": 52,
     "metadata": {},
     "output_type": "execute_result"
    }
   ],
   "source": [
    "person[\"age\"] = 31                      # Update existing\n",
    "\n",
    "person"
   ]
  },
  {
   "cell_type": "code",
   "execution_count": 53,
   "id": "ce1ae4fd-4bd3-48b0-8fb2-cfcb1135bd9d",
   "metadata": {},
   "outputs": [
    {
     "name": "stdout",
     "output_type": "stream",
     "text": [
      "dict_keys(['name', 'age', 'city', 'is_student', 'email'])\n",
      "dict_values(['Alice', 31, 'New York', False, 'alice@email.com'])\n",
      "dict_items([('name', 'Alice'), ('age', 31), ('city', 'New York'), ('is_student', False), ('email', 'alice@email.com')])\n"
     ]
    }
   ],
   "source": [
    "# Dictionary methods\n",
    "keys = person.keys()                    # Get all keys\n",
    "print(keys)\n",
    "values = person.values()                # Get all values\n",
    "print(values)\n",
    "items = person.items()                  # Get key-value pairs\n",
    "print(items)"
   ]
  },
  {
   "cell_type": "markdown",
   "id": "9cbf21b8",
   "metadata": {},
   "source": [
    "### Working with Dictionaries"
   ]
  },
  {
   "cell_type": "code",
   "execution_count": 55,
   "id": "14c49de8",
   "metadata": {},
   "outputs": [
    {
     "name": "stdout",
     "output_type": "stream",
     "text": [
      "name: Alice\n",
      "age: 31\n",
      "city: New York\n",
      "is_student: False\n",
      "email: alice@email.com\n",
      "****\n",
      "name: Alice\n",
      "age: 31\n",
      "city: New York\n",
      "is_student: False\n",
      "email: alice@email.com\n"
     ]
    }
   ],
   "source": [
    "# Loop through dictionaries\n",
    "for key in person:\n",
    "    print(f\"{key}: {person[key]}\")\n",
    "print(\"****\")\n",
    "for key, value in person.items():\n",
    "    print(f\"{key}: {value}\")\n",
    "\n"
   ]
  },
  {
   "cell_type": "code",
   "execution_count": 57,
   "id": "d2115430-6a28-47ce-ab73-4d79755d0fd6",
   "metadata": {},
   "outputs": [
    {
     "data": {
      "text/plain": [
       "{'lucas': '88879802', 'John': '88876654', 'Maria': '99987678'}"
      ]
     },
     "execution_count": 57,
     "metadata": {},
     "output_type": "execute_result"
    }
   ],
   "source": [
    "# Dictionary comprehension\n",
    "squared_dict = {x: x**2 for x in range(5)}  # {0: 0, 1: 1, 2: 4, 3: 9, 4: 16}\n",
    "squared_dict\n",
    "\n",
    "list_of_clients_to_call = [\"lucas\", \"John\", \"Maria\"]\n",
    "list_of_numbers_from_clients = [\"88879802\", \"88876654\", \"99987678\"]\n",
    "string_dict = {name: number for name,number in zip(list_of_clients_to_call, list_of_numbers_from_clients)}\n",
    "string_dict"
   ]
  },
  {
   "cell_type": "markdown",
   "id": "56711584",
   "metadata": {},
   "source": [
    "---\n",
    "\n",
    "## Comparisons and Logic\n",
    "\n",
    "### Comparison Operators"
   ]
  },
  {
   "cell_type": "code",
   "execution_count": null,
   "id": "cc20d032-92fe-4da7-b8e3-28ce719fbc41",
   "metadata": {},
   "outputs": [],
   "source": [
    "# Fake buying agent buys a product if the price is below a threshold\n",
    "product_name = \"playstation 6\"\n",
    "price_threshold = 400\n",
    "price_product = 350\n",
    "\n",
    "if price_product<=price_threshold:\n",
    "    print(f\"Agent buying product: {product_name}\")\n",
    "else:\n",
    "    print(\"no go\")"
   ]
  },
  {
   "cell_type": "code",
   "execution_count": 58,
   "id": "ae167ec4",
   "metadata": {},
   "outputs": [
    {
     "name": "stdout",
     "output_type": "stream",
     "text": [
      "True\n",
      "True\n",
      "True\n",
      "False\n",
      "True\n",
      "False\n"
     ]
    }
   ],
   "source": [
    "# Basic comparisons\n",
    "print(5 == 5)    # True (equal)\n",
    "print(5 != 3)    # True (not equal)\n",
    "print(5 > 3)     # True (greater than)\n",
    "print(5 < 3)     # False (less than)\n",
    "print(5 >= 5)    # True (greater than or equal)\n",
    "print(5 <= 3)    # False (less than or equal)"
   ]
  },
  {
   "cell_type": "code",
   "execution_count": 62,
   "id": "fa46d746-bf76-493b-b95a-f30caf9b2676",
   "metadata": {},
   "outputs": [
    {
     "name": "stdout",
     "output_type": "stream",
     "text": [
      "True\n"
     ]
    }
   ],
   "source": [
    "# String comparisons\n",
    "print(\"apple\" == \"apple\")    # True"
   ]
  },
  {
   "cell_type": "code",
   "execution_count": 66,
   "id": "8a971902-ba8a-47e5-b9b3-735a97b08be6",
   "metadata": {},
   "outputs": [
    {
     "name": "stdout",
     "output_type": "stream",
     "text": [
      "True\n"
     ]
    }
   ],
   "source": [
    "print(\"apple\" < \"banana\")    # True (alphabetical)"
   ]
  },
  {
   "cell_type": "markdown",
   "id": "179a9907",
   "metadata": {},
   "source": [
    "### Logical Operators"
   ]
  },
  {
   "cell_type": "code",
   "execution_count": 68,
   "id": "b4937ba7",
   "metadata": {},
   "outputs": [
    {
     "data": {
      "text/plain": [
       "True"
      ]
     },
     "execution_count": 68,
     "metadata": {},
     "output_type": "execute_result"
    }
   ],
   "source": [
    "# and, or, not\n",
    "age = 25\n",
    "has_license = True\n",
    "is_student = False\n",
    "\n",
    "can_rent_car = age >= 21 and has_license           # True\n",
    "can_rent_car"
   ]
  },
  {
   "cell_type": "code",
   "execution_count": 69,
   "id": "d7e9ac6e-01b6-447c-8a12-d5c1684a14a4",
   "metadata": {},
   "outputs": [
    {
     "data": {
      "text/plain": [
       "False"
      ]
     },
     "execution_count": 69,
     "metadata": {},
     "output_type": "execute_result"
    }
   ],
   "source": [
    "gets_discount = age < 25 or is_student             # False\n",
    "gets_discount"
   ]
  },
  {
   "cell_type": "code",
   "execution_count": null,
   "id": "e4c2bf61-6c6c-4ffe-b1a8-0e57e66a0a7d",
   "metadata": {},
   "outputs": [],
   "source": []
  },
  {
   "cell_type": "code",
   "execution_count": 71,
   "id": "4286b3b2-bcad-4b23-8a57-b705c874888f",
   "metadata": {},
   "outputs": [
    {
     "data": {
      "text/plain": [
       "False"
      ]
     },
     "execution_count": 71,
     "metadata": {},
     "output_type": "execute_result"
    }
   ],
   "source": [
    "age = 17\n",
    "is_adult = not (age < 18)                          # True\n",
    "is_adult"
   ]
  },
  {
   "cell_type": "code",
   "execution_count": 72,
   "id": "90ab81fb-b524-47d9-b7b3-4ea3b1d24363",
   "metadata": {},
   "outputs": [
    {
     "name": "stdout",
     "output_type": "stream",
     "text": [
      "True\n",
      "True\n"
     ]
    }
   ],
   "source": [
    "# Checking membership\n",
    "fruits = [\"apple\", \"banana\", \"orange\"]\n",
    "print(\"apple\" in fruits)        # True\n",
    "print(\"grape\" not in fruits)    # True"
   ]
  },
  {
   "cell_type": "markdown",
   "id": "865ec072",
   "metadata": {},
   "source": [
    "---\n",
    "\n",
    "## Conditionals\n",
    "\n",
    "Control program flow with if statements.\n",
    "\n",
    "### Basic If Statements"
   ]
  },
  {
   "cell_type": "code",
   "execution_count": 73,
   "id": "c3292beb",
   "metadata": {},
   "outputs": [
    {
     "name": "stdout",
     "output_type": "stream",
     "text": [
      "You are an adult\n",
      "You cannot drink alcohol in the US\n"
     ]
    }
   ],
   "source": [
    "age = 20\n",
    "\n",
    "if age >= 18:\n",
    "    print(\"You are an adult\")\n",
    "    \n",
    "if age < 21:\n",
    "    print(\"You cannot drink alcohol in the US\")"
   ]
  },
  {
   "cell_type": "markdown",
   "id": "5d8f1d1e",
   "metadata": {},
   "source": [
    "### If-Else Statements"
   ]
  },
  {
   "cell_type": "code",
   "execution_count": 75,
   "id": "4e5a1a24",
   "metadata": {},
   "outputs": [
    {
     "name": "stdout",
     "output_type": "stream",
     "text": [
      "It's hot outside\n"
     ]
    }
   ],
   "source": [
    "temperature = 85\n",
    "\n",
    "if temperature > 80:\n",
    "    print(\"It's hot outside\")\n",
    "else:\n",
    "    print(\"It's not too hot\")"
   ]
  },
  {
   "cell_type": "markdown",
   "id": "c605e2b9",
   "metadata": {},
   "source": [
    "### If-Elif-Else Chains"
   ]
  },
  {
   "cell_type": "code",
   "execution_count": 76,
   "id": "d62b8214",
   "metadata": {},
   "outputs": [
    {
     "name": "stdout",
     "output_type": "stream",
     "text": [
      "Your grade is: B\n"
     ]
    }
   ],
   "source": [
    "score = 85\n",
    "\n",
    "if score >= 90:\n",
    "    grade = \"A\"\n",
    "elif score >= 80:\n",
    "    grade = \"B\"\n",
    "elif score >= 70:\n",
    "    grade = \"C\"\n",
    "elif score >= 60:\n",
    "    grade = \"D\"\n",
    "else:\n",
    "    grade = \"F\"\n",
    "\n",
    "print(f\"Your grade is: {grade}\")"
   ]
  },
  {
   "cell_type": "code",
   "execution_count": 83,
   "id": "0323c4cd-c2ec-4c47-a566-70a3da912878",
   "metadata": {},
   "outputs": [
    {
     "name": "stdout",
     "output_type": "stream",
     "text": [
      "perfect\n"
     ]
    }
   ],
   "source": [
    "score = 100\n",
    "match score:\n",
    "    case 100:\n",
    "        print(\"perfect\")\n",
    "    case 90:\n",
    "        print(\"almost perfect\")"
   ]
  },
  {
   "cell_type": "markdown",
   "id": "389773d0",
   "metadata": {},
   "source": [
    "### Complex Conditions"
   ]
  },
  {
   "cell_type": "code",
   "execution_count": null,
   "id": "e4c682b5",
   "metadata": {},
   "outputs": [],
   "source": [
    "username = \"admin\"\n",
    "password = \"secret123\"\n",
    "is_active = True\n",
    "\n",
    "if username == \"admin\" and password == \"secret123\" and is_active:\n",
    "    print(\"Access granted\")\n",
    "elif not is_active:\n",
    "    print(\"Account is deactivated\")\n",
    "else:\n",
    "    print(\"Invalid credentials\")"
   ]
  },
  {
   "cell_type": "markdown",
   "id": "35ab981d",
   "metadata": {},
   "source": [
    "---\n",
    "\n",
    "## Working with Files\n",
    "\n",
    "### Reading Files"
   ]
  },
  {
   "cell_type": "code",
   "execution_count": null,
   "id": "1461e3ad",
   "metadata": {},
   "outputs": [],
   "source": [
    "# Read entire file\n",
    "with open(\"data.txt\", \"r\") as file:\n",
    "    content = file.read()\n",
    "    print(content)\n",
    "\n",
    "# Read line by line\n",
    "with open(\"data.txt\", \"r\") as file:\n",
    "    for line in file:\n",
    "        print(line.strip())  # strip() removes newline characters\n",
    "\n",
    "# Read all lines into a list\n",
    "with open(\"data.txt\", \"r\") as file:\n",
    "    lines = file.readlines()"
   ]
  },
  {
   "cell_type": "markdown",
   "id": "19250359",
   "metadata": {},
   "source": [
    "### Writing Files"
   ]
  },
  {
   "cell_type": "code",
   "execution_count": 84,
   "id": "92ddc8b1",
   "metadata": {},
   "outputs": [],
   "source": [
    "# Write to file (overwrites existing content)\n",
    "with open(\"output.txt\", \"w\") as file:\n",
    "    file.write(\"Hello, World!\\n\")\n",
    "    file.write(\"This is a new line.\\n\")"
   ]
  },
  {
   "cell_type": "code",
   "execution_count": 85,
   "id": "0550e047-dc62-4922-9bd4-77525fdd69b7",
   "metadata": {},
   "outputs": [
    {
     "name": "stdout",
     "output_type": "stream",
     "text": [
      "Hello, World!\n",
      "This is a new line.\n",
      "\n"
     ]
    }
   ],
   "source": [
    "with open(\"output.txt\", \"r\") as file:\n",
    "    data = file.read()\n",
    "\n",
    "print(data)"
   ]
  },
  {
   "cell_type": "code",
   "execution_count": 86,
   "id": "baff5ad9-1ece-4b02-aadf-8fcae231c499",
   "metadata": {},
   "outputs": [],
   "source": [
    "# Append to file\n",
    "with open(\"output.txt\", \"a\") as file:\n",
    "    file.write(\"This line is appended.\\n\")"
   ]
  },
  {
   "cell_type": "code",
   "execution_count": 87,
   "id": "045af2dd-1523-43a7-88d6-88eaeb80328b",
   "metadata": {},
   "outputs": [
    {
     "name": "stdout",
     "output_type": "stream",
     "text": [
      "Hello, World!\n",
      "This is a new line.\n",
      "This line is appended.\n",
      "\n"
     ]
    }
   ],
   "source": [
    "with open(\"output.txt\", \"r\") as file:\n",
    "    data = file.read()\n",
    "\n",
    "print(data)"
   ]
  },
  {
   "cell_type": "code",
   "execution_count": 88,
   "id": "a60c5009-af9b-4334-b1b7-8db6911112b5",
   "metadata": {},
   "outputs": [],
   "source": [
    "# Write multiple lines\n",
    "lines = [\"Line 1\\n\", \"Line 2\\n\", \"Line 3\\n\"]\n",
    "with open(\"output.txt\", \"w\") as file:\n",
    "    file.writelines(lines)"
   ]
  },
  {
   "cell_type": "code",
   "execution_count": 89,
   "id": "4a7907dd-829e-4a6f-8b6a-1540d189dc9a",
   "metadata": {},
   "outputs": [],
   "source": [
    "with open(\"output.txt\", \"r\") as file:\n",
    "    data = file.read()"
   ]
  },
  {
   "cell_type": "code",
   "execution_count": 90,
   "id": "853f7655-55f4-4a9b-bed2-a1ddf65347de",
   "metadata": {},
   "outputs": [
    {
     "data": {
      "text/plain": [
       "'Line 1\\nLine 2\\nLine 3\\n'"
      ]
     },
     "execution_count": 90,
     "metadata": {},
     "output_type": "execute_result"
    }
   ],
   "source": [
    "data"
   ]
  },
  {
   "cell_type": "markdown",
   "id": "3a0fe0c0",
   "metadata": {},
   "source": [
    "### File Handling Best Practices"
   ]
  },
  {
   "cell_type": "code",
   "execution_count": null,
   "id": "87a504c7-dfea-4167-924a-69532fa19ded",
   "metadata": {},
   "outputs": [],
   "source": []
  },
  {
   "cell_type": "code",
   "execution_count": 92,
   "id": "ce877ef2",
   "metadata": {},
   "outputs": [],
   "source": [
    "import os\n",
    "\n",
    "filename=\"output.txt\"\n",
    "# Check if file exists\n",
    "if os.path.exists(filename):\n",
    "    with open(filename, \"r\") as file:\n",
    "        content = file.read()\n",
    "else:\n",
    "    print(\"File not found\")"
   ]
  },
  {
   "cell_type": "code",
   "execution_count": 93,
   "id": "13e94e32-c35a-4115-b81c-fb6e194c8d9e",
   "metadata": {},
   "outputs": [
    {
     "data": {
      "text/plain": [
       "'Line 1\\nLine 2\\nLine 3\\n'"
      ]
     },
     "execution_count": 93,
     "metadata": {},
     "output_type": "execute_result"
    }
   ],
   "source": [
    "content"
   ]
  },
  {
   "cell_type": "code",
   "execution_count": 100,
   "id": "ab52ce5e-bc7a-493b-ac9f-d6e56a51fd15",
   "metadata": {},
   "outputs": [
    {
     "data": {
      "text/plain": [
       "datetime.datetime(2025, 6, 3, 15, 42, 41, 561349)"
      ]
     },
     "execution_count": 100,
     "metadata": {},
     "output_type": "execute_result"
    }
   ],
   "source": [
    "from datetime import datetime\n",
    "# Get file information\n",
    "file_size = os.path.getsize(\"output.txt\")\n",
    "file_size\n",
    "# Get file information\n",
    "file_modified = os.path.getmtime(\"output.txt\")\n",
    "datetime.fromtimestamp(file_modified)"
   ]
  },
  {
   "cell_type": "code",
   "execution_count": null,
   "id": "2165b60c-6ed3-43ef-8501-a1f28f0d680f",
   "metadata": {},
   "outputs": [],
   "source": []
  },
  {
   "cell_type": "markdown",
   "id": "58755565",
   "metadata": {},
   "source": [
    "---\n",
    "\n",
    "## Working with CSV Data\n",
    "\n",
    "### Writing/Reading CSV Files"
   ]
  },
  {
   "cell_type": "code",
   "execution_count": 110,
   "id": "3303e35b",
   "metadata": {},
   "outputs": [],
   "source": [
    "import csv\n",
    "\n",
    "# Write CSV from list of lists\n",
    "data = [\n",
    "    [\"Name\", \"Age\", \"City\"],\n",
    "    [\"Alice\", \"30\", \"New York\"],\n",
    "    [\"Bob\", \"25\", \"Los Angeles\"]\n",
    "]\n",
    "\n",
    "with open(\"data.csv\", \"w\", newline=\"\") as file:\n",
    "    csv_writer = csv.writer(file)\n",
    "    csv_writer.writerows(data)"
   ]
  },
  {
   "cell_type": "code",
   "execution_count": 112,
   "id": "110e645f-8e06-4d68-b832-37bca18ce9cd",
   "metadata": {},
   "outputs": [
    {
     "name": "stdout",
     "output_type": "stream",
     "text": [
      "['Name', 'Age', 'City']\n",
      "['Alice', '30', 'New York']\n",
      "['Bob', '25', 'Los Angeles']\n"
     ]
    }
   ],
   "source": [
    "# Read CSV and print each row\n",
    "with open(\"data.csv\", \"r\", newline=\"\") as file:\n",
    "    csv_reader = csv.reader(file)\n",
    "    for row in csv_reader:\n",
    "        print(row)"
   ]
  },
  {
   "cell_type": "markdown",
   "id": "e57c37d4",
   "metadata": {},
   "source": [
    "### Processing CSV Data"
   ]
  },
  {
   "cell_type": "code",
   "execution_count": 114,
   "id": "2e2ea5b5-4911-4012-b2ab-a6ca02716183",
   "metadata": {},
   "outputs": [],
   "source": [
    "import csv\n",
    "\n",
    "data = [\n",
    "    [\"name\", \"age\", \"city\"],\n",
    "    [\"Alice\", \"30\", \"New York\"],\n",
    "    [\"Bob\", \"17\", \"Los Angeles\"],\n",
    "    [\"Charlie\", \"22\", \"Chicago\"],\n",
    "    [\"Diana\", \"16\", \"Boston\"],\n",
    "    [\"Eve\", \"45\", \"San Francisco\"],\n",
    "    [\"Frank\", \"18\", \"Houston\"]\n",
    "]\n",
    "\n",
    "with open(\"people.csv\", \"w\", newline=\"\") as file:\n",
    "    writer = csv.writer(file)\n",
    "    writer.writerows(data)\n"
   ]
  },
  {
   "cell_type": "code",
   "execution_count": null,
   "id": "aa48a19f-84c1-4c10-9fec-990ae8a8c3fd",
   "metadata": {},
   "outputs": [],
   "source": []
  },
  {
   "cell_type": "code",
   "execution_count": 115,
   "id": "d5d4e352",
   "metadata": {},
   "outputs": [
    {
     "name": "stdout",
     "output_type": "stream",
     "text": [
      "Average age: 24.7\n"
     ]
    }
   ],
   "source": [
    "import csv\n",
    "\n",
    "# Filter and process CSV data\n",
    "adults = []\n",
    "with open(\"people.csv\", \"r\") as file:\n",
    "    csv_reader = csv.DictReader(file)\n",
    "    \n",
    "    for row in csv_reader:\n",
    "        if int(row[\"age\"]) >= 18:\n",
    "            adults.append(row)\n",
    "\n",
    "# Calculate statistics\n",
    "ages = []\n",
    "with open(\"people.csv\", \"r\") as file:\n",
    "    csv_reader = csv.DictReader(file)\n",
    "    \n",
    "    for row in csv_reader:\n",
    "        ages.append(int(row[\"age\"]))\n",
    "\n",
    "average_age = sum(ages) / len(ages)\n",
    "print(f\"Average age: {average_age:.1f}\")"
   ]
  },
  {
   "cell_type": "code",
   "execution_count": 2,
   "id": "a3ab81a2-a057-4616-a378-ce90bd06b8da",
   "metadata": {},
   "outputs": [
    {
     "name": "stdout",
     "output_type": "stream",
     "text": [
      "Average age: 24.7\n"
     ]
    }
   ],
   "source": [
    "import pandas as pd\n",
    "\n",
    "# Read CSV into a DataFrame\n",
    "df = pd.read_csv(\"people.csv\")\n",
    "\n",
    "# Filter adults (age >= 18)\n",
    "adults = df[df[\"age\"] >= 18]\n",
    "\n",
    "# Calculate average age\n",
    "average_age = df[\"age\"].mean()\n",
    "\n",
    "print(f\"Average age: {average_age:.1f}\")"
   ]
  },
  {
   "cell_type": "code",
   "execution_count": 3,
   "id": "3d6362a5-331d-4d68-80aa-8c1fc74f89dd",
   "metadata": {},
   "outputs": [
    {
     "data": {
      "text/html": [
       "<div>\n",
       "<style scoped>\n",
       "    .dataframe tbody tr th:only-of-type {\n",
       "        vertical-align: middle;\n",
       "    }\n",
       "\n",
       "    .dataframe tbody tr th {\n",
       "        vertical-align: top;\n",
       "    }\n",
       "\n",
       "    .dataframe thead th {\n",
       "        text-align: right;\n",
       "    }\n",
       "</style>\n",
       "<table border=\"1\" class=\"dataframe\">\n",
       "  <thead>\n",
       "    <tr style=\"text-align: right;\">\n",
       "      <th></th>\n",
       "      <th>name</th>\n",
       "      <th>age</th>\n",
       "      <th>city</th>\n",
       "    </tr>\n",
       "  </thead>\n",
       "  <tbody>\n",
       "    <tr>\n",
       "      <th>0</th>\n",
       "      <td>Alice</td>\n",
       "      <td>30</td>\n",
       "      <td>New York</td>\n",
       "    </tr>\n",
       "    <tr>\n",
       "      <th>1</th>\n",
       "      <td>Bob</td>\n",
       "      <td>17</td>\n",
       "      <td>Los Angeles</td>\n",
       "    </tr>\n",
       "    <tr>\n",
       "      <th>2</th>\n",
       "      <td>Charlie</td>\n",
       "      <td>22</td>\n",
       "      <td>Chicago</td>\n",
       "    </tr>\n",
       "    <tr>\n",
       "      <th>3</th>\n",
       "      <td>Diana</td>\n",
       "      <td>16</td>\n",
       "      <td>Boston</td>\n",
       "    </tr>\n",
       "    <tr>\n",
       "      <th>4</th>\n",
       "      <td>Eve</td>\n",
       "      <td>45</td>\n",
       "      <td>San Francisco</td>\n",
       "    </tr>\n",
       "    <tr>\n",
       "      <th>5</th>\n",
       "      <td>Frank</td>\n",
       "      <td>18</td>\n",
       "      <td>Houston</td>\n",
       "    </tr>\n",
       "  </tbody>\n",
       "</table>\n",
       "</div>"
      ],
      "text/plain": [
       "      name  age           city\n",
       "0    Alice   30       New York\n",
       "1      Bob   17    Los Angeles\n",
       "2  Charlie   22        Chicago\n",
       "3    Diana   16         Boston\n",
       "4      Eve   45  San Francisco\n",
       "5    Frank   18        Houston"
      ]
     },
     "execution_count": 3,
     "metadata": {},
     "output_type": "execute_result"
    }
   ],
   "source": [
    "df"
   ]
  },
  {
   "cell_type": "markdown",
   "id": "9ee3d13f",
   "metadata": {},
   "source": [
    "---\n",
    "\n",
    "## Packages and APIs\n",
    "\n",
    "### Built-in Packages"
   ]
  },
  {
   "cell_type": "code",
   "execution_count": 5,
   "id": "d15036e8",
   "metadata": {},
   "outputs": [],
   "source": [
    "# Math operations\n",
    "import math\n",
    "\n",
    "print(math.sqrt(16))        # 4.0\n",
    "print(math.pi)              # 3.141592653589793\n",
    "print(math.ceil(4.2))       # 5 (round up)\n",
    "print(math.floor(4.8))      # 4 (round down)\n",
    "\n",
    "# Random operations\n",
    "import random\n",
    "\n",
    "print(random.randint(1, 10))           # Random integer between 1 and 10\n",
    "print(random.choice([\"a\", \"b\", \"c\"]))  # Random choice from list\n",
    "random.shuffle([1, 2, 3, 4, 5])        # Shuffle list in place\n",
    "\n",
    "# Date and time\n",
    "from datetime import datetime, date\n",
    "\n",
    "now = datetime.now()\n",
    "today = date.today()\n",
    "print(f\"Current time: {now}\")\n",
    "print(f\"Today's date: {today}\")"
   ]
  },
  {
   "cell_type": "code",
   "execution_count": null,
   "id": "1afc75a0-afaa-4200-8536-dd48c5c5150c",
   "metadata": {},
   "outputs": [],
   "source": []
  },
  {
   "cell_type": "markdown",
   "id": "72ce3eab",
   "metadata": {},
   "source": [
    "### Working with APIs"
   ]
  },
  {
   "cell_type": "code",
   "execution_count": 7,
   "id": "7010b182",
   "metadata": {},
   "outputs": [
    {
     "name": "stdout",
     "output_type": "stream",
     "text": [
      "Username: octocat\n",
      "Public repos: 8\n"
     ]
    }
   ],
   "source": [
    "import requests\n",
    "import json\n",
    "\n",
    "# Make API request\n",
    "response = requests.get(\"https://api.github.com/users/octocat\")\n",
    "\n",
    "if response.status_code == 200:\n",
    "    data = response.json()\n",
    "    print(f\"Username: {data['login']}\")\n",
    "    print(f\"Public repos: {data['public_repos']}\")\n",
    "else:\n",
    "    print(\"API request failed\")\n",
    "\n",
    "# POST request with data\n",
    "data = {\"name\": \"John\", \"email\": \"john@example.com\"}\n",
    "response = requests.post(\"https://api.example.com/users\", json=data)"
   ]
  },
  {
   "cell_type": "markdown",
   "id": "65bd20b0",
   "metadata": {},
   "source": [
    "### Package Installation and Import"
   ]
  },
  {
   "cell_type": "code",
   "execution_count": null,
   "id": "1f75547a",
   "metadata": {},
   "outputs": [],
   "source": [
    "# Install packages using pip (in terminal):\n",
    "# pip install requests\n",
    "# pip install pandas\n",
    "# pip install matplotlib\n",
    "\n",
    "# Import installed packages\n",
    "import requests\n",
    "import pandas as pd\n",
    "import matplotlib.pyplot as plt\n",
    "\n",
    "# Import specific functions\n",
    "from datetime import datetimez\n",
    "from math import sqrt, pi\n",
    "from random import choice, randint"
   ]
  },
  {
   "cell_type": "markdown",
   "id": "38a3cc78",
   "metadata": {},
   "source": [
    "---\n",
    "\n",
    "## Putting It All Together: Example Project\n",
    "\n",
    "Here's a complete example that combines multiple concepts:"
   ]
  },
  {
   "cell_type": "markdown",
   "id": "b3492427-997e-4c51-b35c-c9e42a9aae24",
   "metadata": {},
   "source": [
    "Ask the user to enter a number. Write a program that checks if the number is even or odd and prints the result."
   ]
  },
  {
   "cell_type": "code",
   "execution_count": 32,
   "id": "e719130f-efb7-488b-be6f-61e7fa917245",
   "metadata": {},
   "outputs": [
    {
     "name": "stdin",
     "output_type": "stream",
     "text": [
      "give me a number 3\n"
     ]
    },
    {
     "name": "stdout",
     "output_type": "stream",
     "text": [
      "<class 'str'>\n",
      "is odd!\n"
     ]
    }
   ],
   "source": [
    "input_num = input(\"give me a number\")\n",
    "\n",
    "print(type(input_num))\n",
    "\n",
    "input_num_integer = int(input_num)\n",
    "\n",
    "if input_num_integer%2==0:\n",
    "    print(\"is even!\")\n",
    "else:\n",
    "    print(\"is odd!\")"
   ]
  },
  {
   "cell_type": "code",
   "execution_count": null,
   "id": "402d992e-a166-4385-a4da-d3170568ce4e",
   "metadata": {},
   "outputs": [],
   "source": []
  },
  {
   "cell_type": "code",
   "execution_count": null,
   "id": "9eb2cbfa-2409-4a42-abc9-bcabf9bda1ef",
   "metadata": {},
   "outputs": [],
   "source": []
  },
  {
   "cell_type": "markdown",
   "id": "6c37906d",
   "metadata": {},
   "source": [
    "---\n",
    "\n",
    "## Summary\n",
    "\n",
    "You've learned the core Python concepts:\n",
    "\n",
    "1. **Data Types**: integers, floats, strings, booleans\n",
    "2. **Variables**: storing and manipulating data\n",
    "3. **Functions**: organizing reusable code\n",
    "4. **Lists**: managing collections of data\n",
    "5. **Dictionaries**: storing key-value pairs\n",
    "6. **Logic**: comparisons and conditional statements\n",
    "7. **File I/O**: reading and writing files\n",
    "8. **CSV handling**: working with structured data\n",
    "9. **Packages**: using built-in and external libraries\n",
    "\n",
    "These fundamentals provide the foundation for automation, data analysis, web development, and countless other programming tasks. Practice combining these concepts to build real-world applications!"
   ]
  }
 ],
 "metadata": {
  "kernelspec": {
   "display_name": "My UV Project",
   "language": "python",
   "name": "my-uv-project"
  },
  "language_info": {
   "codemirror_mode": {
    "name": "ipython",
    "version": 3
   },
   "file_extension": ".py",
   "mimetype": "text/x-python",
   "name": "python",
   "nbconvert_exporter": "python",
   "pygments_lexer": "ipython3",
   "version": "3.13.1"
  }
 },
 "nbformat": 4,
 "nbformat_minor": 5
}
